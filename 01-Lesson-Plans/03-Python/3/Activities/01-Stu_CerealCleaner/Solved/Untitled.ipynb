{
 "cells": [
  {
   "cell_type": "code",
   "execution_count": 1,
   "metadata": {},
   "outputs": [],
   "source": []
  },
  {
   "cell_type": "code",
   "execution_count": null,
   "metadata": {},
   "outputs": [],
   "source": []
  },
  {
   "cell_type": "code",
   "execution_count": null,
   "metadata": {},
   "outputs": [],
   "source": []
  },
  {
   "cell_type": "code",
   "execution_count": null,
   "metadata": {},
   "outputs": [],
   "source": [
    "import os\n",
    "import csv\n",
    "\n",
    "csvpath = os.path.join(\"..\", \"Resources\", \"election_data.csv\")\n",
    "\n",
    "with open(csvpath, newline=\"\") as csvfile:\n",
    "\n",
    "    csvreader = csv.reader(csvfile, delimiter=\",\")\n",
    "    csv_header = next(csvfile)\n",
    " \n",
    "    \n",
    "    candidates = {}\n",
    "    count = 0\n",
    "    votes_cast = 0\n",
    "    vote_percentage = 0\n",
    "    most_votes = 0\n",
    "    most_voted = \"\"\n",
    "    \n",
    "    for row in csvreader:\n",
    "        \n",
    "        candidate = row[2]\n",
    "        count = count + 1\n",
    "        if candidate in candidates.keys():\n",
    "            candidates[candidate] += 1\n",
    "        else:\n",
    "            candidates[candidate] = 1\n",
    "    \n",
    "    print(\"Election Results\")\n",
    "    print(\"----------------------------------------\")\n",
    "    print(f\"Total Votes: {count}\")\n",
    "    print(\"----------------------------------------\")\n",
    "    \n",
    "    \n",
    "    for candidate in candidates:\n",
    "        votes_cast += candidates[candidate]\n",
    "    \n",
    "        vote_percentage = (candidates[candidate])/(count) * (100)\n",
    "        print(f\"{candidate}: {int(percent_of_votes)}% {votes_cast}\")\n",
    "        \n",
    "        if candidates[candidate] > most_votes:\n",
    "            most_voted = candidate\n",
    "            most_votes = candidates[candidate]\n",
    "        \n",
    "    print(\"----------------------------------------\")\n",
    "    \n",
    "    print(f\"Winner: {Most_Voted}\")\n",
    "    \n",
    "    print(\"----------------------------------------\")"
   ]
  },
  {
   "cell_type": "code",
   "execution_count": null,
   "metadata": {},
   "outputs": [],
   "source": [
    "with open(\"budget_analysis.txt\", \"w\") as text_file:\n",
    "    print(\"Election Results\"\\n\n",
    "          \"----------------------------------------\"\\n\n",
    "          f\"Total Votes: {count}\"\\n\n",
    "          \"----------------------------------------\"\\n\n",
    "          f\"{candidate}: {int(percent_of_votes)}% {votes_cast}\"\\n  \n",
    "          \"----------------------------------------\"\\n\n",
    "          f\"Winner: {Most_Voted}\"\\n\n",
    "          \"----------------------------------------\", file = text_file)\n"
   ]
  },
  {
   "cell_type": "code",
   "execution_count": null,
   "metadata": {},
   "outputs": [],
   "source": []
  }
 ],
 "metadata": {
  "kernelspec": {
   "display_name": "Python 3",
   "language": "python",
   "name": "python3"
  },
  "language_info": {
   "codemirror_mode": {
    "name": "ipython",
    "version": 3
   },
   "file_extension": ".py",
   "mimetype": "text/x-python",
   "name": "python",
   "nbconvert_exporter": "python",
   "pygments_lexer": "ipython3",
   "version": "3.7.1"
  }
 },
 "nbformat": 4,
 "nbformat_minor": 2
}
